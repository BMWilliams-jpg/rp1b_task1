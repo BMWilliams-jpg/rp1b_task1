{
 "cells": [
  {
   "cell_type": "code",
   "execution_count": 2,
   "id": "a67c9317-1a75-4b86-8819-f91d076478a9",
   "metadata": {
    "tags": []
   },
   "outputs": [
    {
     "name": "stdout",
     "output_type": "stream",
     "text": [
      "236 224 215 227\n"
     ]
    }
   ],
   "source": [
    "word=\"CCCATCGTTGGGATCTCGGGGCCCACTTGTTTATGATCAATGGAGCTTAACGGAGGATCGTGTTCTAGATAACGAGCACAATTCTCCCCAGGAGGCCTTGTGTGATATCGAAAAAGGTGCTGAGCCAGGGCTGTCCCTCAGTGACGTAAAGTTTGTCAACTCACCCACCCTAAGCTGCGAAAAGCAGGGCAATAACTGGACTATTGTTACAAAGTCCACCGCTGTAAACTTCAAGGATCCACGAGCCTTTCGTAGAAAGACTCGACGGCATCGTTACCAGCTTCATGAAGTGTCGGCAGTTCGGCGACTCCAGAATCGGTTCTCTGCAAAAATATTCCGTTCCTGGCGTAGGATTAATTTGGGGTGCAATAGCTTGTTTTACTGTCATTCATACCTCTGAATGGGGCTGCCCGACTCTCATAAGGCCTTATTCAGTTTGCAGTGAATGATGATTAGTAAATGCGCATAATTCGAACTAAAGCCCCCATTGAGTACCATGAGCTATCGAAGCCACCTGACTCCCCGCCGTGTCCATGGGCGGTTAACTCTGTACAATGCCAGGCGTGGCTTCTACTAAGAAGCCAAAGCTTCAATTAGATGATTAGTAGGCAGTAAGACGTGCAGCCGCCCTCGGCTACACGCCGCTTACGTAGTGCGGTTTCTTCGCTTGGGAACTATGACGCCTTACGTCTATTCACTCCCCTCAGTCTTGAGGTACACTCACTCACACGACATATGTCATTCGAGATTATCCCGTGTTGTCTAAAATATTAAACGTGTTCACCTCCCAGAGAGGAGGCGGGGAAAAAGAAGTCCGAAGGGGATGGAGCTCTGCTAATATTAGTCAACGTGCGGAGTACCCGCTATAGAAACTCGATAAAAGGGAACGAAAACTTTCACCC\"\n",
    "a=word.count(\"A\")\n",
    "b=word.count(\"C\")\n",
    "c=word.count(\"G\")\n",
    "d=word.count(\"T\")\n",
    "\n",
    "\n",
    "print(a,b,c,d)\n"
   ]
  },
  {
   "cell_type": "code",
   "execution_count": null,
   "id": "d04cb1ad-fa27-4e77-bd8f-613612ee11a6",
   "metadata": {},
   "outputs": [],
   "source": []
  },
  {
   "cell_type": "code",
   "execution_count": null,
   "id": "8fccb1eb-8c3a-4f3f-8a7e-63ba9cd9244e",
   "metadata": {},
   "outputs": [],
   "source": []
  }
 ],
 "metadata": {
  "kernelspec": {
   "display_name": "Python [conda env:base] *",
   "language": "python",
   "name": "conda-base-py"
  },
  "language_info": {
   "codemirror_mode": {
    "name": "ipython",
    "version": 3
   },
   "file_extension": ".py",
   "mimetype": "text/x-python",
   "name": "python",
   "nbconvert_exporter": "python",
   "pygments_lexer": "ipython3",
   "version": "3.10.9"
  },
  "toc-autonumbering": true
 },
 "nbformat": 4,
 "nbformat_minor": 5
}
